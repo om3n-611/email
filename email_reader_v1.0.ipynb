{
 "cells": [
  {
   "cell_type": "markdown",
   "id": "464e8f5c",
   "metadata": {},
   "source": [
    "#This is an email reader created by Ryan Smith\n",
    "\n",
    "##This will allow for constant monitoring of the emails without manual intervention"
   ]
  },
  {
   "cell_type": "markdown",
   "id": "fc87a1af",
   "metadata": {},
   "source": [
    "V1 release notes\n",
    "\n",
    "contains the following changes and updates\n",
    "- uses psutil to verify outlook instance is running (new)\n",
    "- email address exact match (ghost emails - prod/QA issue)(new)\n",
    "- uses the properties from v0.4\n",
    "-- connects to outlook\n",
    "-- verifies the inbox\n",
    "-- validates the unreads\n",
    "-- checks for matching instances not exact matches\n",
    "-- connects and reads the data (test data emails)\n",
    "-- places each file email in a seperate csv\n",
    "-- downloads attachment to specified file"
   ]
  },
  {
   "cell_type": "code",
   "execution_count": 12,
   "id": "4c504084",
   "metadata": {},
   "outputs": [],
   "source": [
    "import win32com.client\n",
    "import os\n",
    "import pandas as pd\n",
    "import csv\n",
    "from datetime import datetime\n",
    "import sched, time\n",
    "import psutil\n",
    "import zipfile\n",
    "import re"
   ]
  },
  {
   "cell_type": "code",
   "execution_count": 2,
   "id": "ca9c997a",
   "metadata": {},
   "outputs": [],
   "source": [
    "def is_outlook_running():\n",
    "    \"\"\"This verifies that outlook is actually running and creates a new instance if it isnt\"\"\"\n",
    "    for p in psutil.process_iter(attrs=['pid', 'name']):\n",
    "        if \"OUTLOOK.EXE\" in p.info['name']:\n",
    "            print(\"Yes\", p.info['name'], \"is running\")\n",
    "            break\n",
    "    else:\n",
    "        print(\"No, Outlook is not running\")\n",
    "        os.startfile(\"outlook\")\n",
    "        print(\"Outlook is starting now...\")"
   ]
  },
  {
   "cell_type": "code",
   "execution_count": 3,
   "id": "8d525e65",
   "metadata": {},
   "outputs": [],
   "source": [
    "def body_csv():\n",
    "    \"\"\"Decorator coming in future release this scans the body of the email to create a csv file containing the correct \n",
    "    details it verifies againt the email address and the subject line\"\"\"\n",
    "    #connecting to email program\n",
    "    M = win32com.client.Dispatch(\"Outlook.Application\").GetNamespace(\"MAPI\")\n",
    "    \n",
    "    #blank list to append to\n",
    "    headings = []\n",
    "    i = []\n",
    "    len_i = []\n",
    "    #access inbox\n",
    "    inbox_a = M.Folders('ryansmith120@hotmail.com').Folders('Inbox')\n",
    "    messages = inbox_a.Items\n",
    "\n",
    "    #create for loop to search for unread messages\n",
    "    for message in messages:\n",
    "        if \"This is a csv test\".lower() in message.subject.lower() and message.Unread == True:\n",
    "            details = re.split(':| |\\r|\\n',(message.body))\n",
    "            i.append([details[7],details[10],details[13]])\n",
    "            headings.append([details[6],details[9],details[12]])\n",
    "            len_i = [x for x in range(len(i))]\n",
    "            message.Unread = False\n",
    "        \n",
    "        elif message.Class == 43:\n",
    "            if message.SenderEmailAddress == 'ryansmith120@hotmail.com' and message.Unread == True:\n",
    "                i.append((message.body).split()[4])\n",
    "                len_i = [x for x in range(len(i))]\n",
    "                message.Unread = False\n",
    "        \n",
    "        #create an exclusion for QA environment\n",
    "    \n",
    "    def new_csv(i,len_i):\n",
    "        while len(i) > 0:\n",
    "            a = datetime.today()\n",
    "            date = int(a.strftime('%Y%m%d%H%M%S'))\n",
    "            file_name =\"csv test{} {}.csv\".format(len_i[0],date)\n",
    "            \n",
    "            #create the file for each email\n",
    "            file_out = open(os.getcwd() + '\\\\' + file_name, 'w',newline = '')\n",
    "            #add headers\n",
    "            with open(file_name, 'a') as f:\n",
    "                info = csv.writer(f)\n",
    "                info.writerow([headings[0]])\n",
    "                info.writerow([i[0]])\n",
    "                f.close()\n",
    "            #push to correct file path\n",
    "            headings.pop(0)\n",
    "            i.pop(0)\n",
    "            len_i.pop(0)\n",
    "    #run the writer for a unique file for each item\n",
    "    new_csv(i,len_i)"
   ]
  },
  {
   "cell_type": "code",
   "execution_count": 4,
   "id": "ab80233a",
   "metadata": {},
   "outputs": [],
   "source": [
    "def attach_download():\n",
    "    \"\"\"This verfies an attachment file and downloads it to a predetermined folder\n",
    "    it verifies email address as well as subject\"\"\"\n",
    "    M = win32com.client.Dispatch(\"Outlook.Application\").GetNamespace(\"MAPI\")\n",
    "\n",
    "    inbox_a = M.Folders('ryansmith120@hotmail.com').Folders('Inbox')\n",
    "    messages = inbox_a.Items\n",
    "    \n",
    "    for message in messages:\n",
    "        \n",
    "        if \"This is an attachment test\".lower() in message.subject.lower() and message.Unread == True:\n",
    "            attachment = message.Attachments\n",
    "            for attachment in message.Attachments:\n",
    "                attachment_name = str(attachment).lower()\n",
    "                attachment.SaveAsFile(os.getcwd() + '\\\\' + attachment_name)\n",
    "                message.Unread = False\n",
    "        \n",
    "        #unzip file with password\n",
    "#         with zipfile.ZipFile(path_to_zip_file, 'r') as zip_ref:\n",
    "#             zip_ref.extractall(pwd = bytes('xxxxx','utf-8'), directory_to_extract_to)\n",
    "        \n",
    "        elif message.Class == 43:\n",
    "            if message.SenderEmailAddress == 'ryan.james.smith611@gmail.com' and message.Unread == True:\n",
    "                attachment = message.Attachments\n",
    "                for attachment in message.Attachments:\n",
    "                    attachment_name = str(attachment).lower()\n",
    "                    attachment.SaveAsFile(os.getcwd() + '\\\\' + attachment_name)\n",
    "                    message.Unread = False"
   ]
  },
  {
   "cell_type": "code",
   "execution_count": 14,
   "id": "d5e27421",
   "metadata": {},
   "outputs": [],
   "source": [
    "def execute():\n",
    "    \"\"\"this executes the reader\"\"\"\n",
    "    while True:\n",
    "        is_outlook_running()\n",
    "        body_csv()\n",
    "        attach_download()\n",
    "        time.sleep(600)"
   ]
  },
  {
   "cell_type": "code",
   "execution_count": null,
   "id": "8e1d3f70",
   "metadata": {},
   "outputs": [
    {
     "name": "stdout",
     "output_type": "stream",
     "text": [
      "Yes OUTLOOK.EXE is running\n",
      "['Bla', 'bla', 'bla', '', '', '', 'Name', 'Ryan', '', 'Surname', 'Smith', '', 'ID', '123456', '', '', '', '', '', '', '', '', '', 'Sent', 'from', 'my', 'Galaxy', '', '']\n",
      "[['Name', 'Surname', 'ID']]\n"
     ]
    }
   ],
   "source": [
    "execute()"
   ]
  }
 ],
 "metadata": {
  "kernelspec": {
   "display_name": "Python 3",
   "language": "python",
   "name": "python3"
  },
  "language_info": {
   "codemirror_mode": {
    "name": "ipython",
    "version": 3
   },
   "file_extension": ".py",
   "mimetype": "text/x-python",
   "name": "python",
   "nbconvert_exporter": "python",
   "pygments_lexer": "ipython3",
   "version": "3.8.8"
  }
 },
 "nbformat": 4,
 "nbformat_minor": 5
}
